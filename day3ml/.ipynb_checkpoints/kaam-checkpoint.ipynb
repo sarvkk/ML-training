{
 "cells": [
  {
   "cell_type": "code",
   "execution_count": 27,
   "id": "8a5a4b01-1b38-49dc-91a7-1078488eed3e",
   "metadata": {},
   "outputs": [],
   "source": [
    "import pandas as pd\n",
    "import numpy as np\n",
    "import matplotlib.pyplot as plt\n",
    "train_date=pd.read_excel(\"crop yield data sheet.xlsx\")\n",
    "train_date.head()\n",
    "train_date.tail()\n",
    "nan_count=train_date.isnull().sum(axis=0)\n",
    "print(nan_count)"
   ]
  },
  {
   "cell_type": "code",
   "execution_count": null,
   "id": "3144ddce-6f2c-489b-8955-70734ed31623",
   "metadata": {},
   "outputs": [],
   "source": []
  }
 ],
 "metadata": {
  "kernelspec": {
   "display_name": "Python 3 (ipykernel)",
   "language": "python",
   "name": "python3"
  },
  "language_info": {
   "codemirror_mode": {
    "name": "ipython",
    "version": 3
   },
   "file_extension": ".py",
   "mimetype": "text/x-python",
   "name": "python",
   "nbconvert_exporter": "python",
   "pygments_lexer": "ipython3",
   "version": "3.10.12"
  }
 },
 "nbformat": 4,
 "nbformat_minor": 5
}
